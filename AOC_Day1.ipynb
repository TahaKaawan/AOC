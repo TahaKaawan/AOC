{
 "cells": [
  {
   "cell_type": "code",
   "execution_count": 4,
   "metadata": {},
   "outputs": [
    {
     "ename": "ValueError",
     "evalue": "invalid literal for int() with base 10: '3-4 l: vdcv\\n'",
     "output_type": "error",
     "traceback": [
      "\u001b[0;31m---------------------------------------------------------------------------\u001b[0m",
      "\u001b[0;31mValueError\u001b[0m                                Traceback (most recent call last)",
      "\u001b[0;32m<ipython-input-4-3cccf81c6b84>\u001b[0m in \u001b[0;36m<module>\u001b[0;34m\u001b[0m\n\u001b[1;32m     31\u001b[0m     \u001b[0mprint\u001b[0m\u001b[0;34m(\u001b[0m\u001b[0mproductfunc\u001b[0m\u001b[0;34m(\u001b[0m\u001b[0mexpenses\u001b[0m\u001b[0;34m,\u001b[0m \u001b[0;36m2020\u001b[0m\u001b[0;34m,\u001b[0m \u001b[0;36m2\u001b[0m\u001b[0;34m)\u001b[0m\u001b[0;34m)\u001b[0m\u001b[0;34m\u001b[0m\u001b[0;34m\u001b[0m\u001b[0m\n\u001b[1;32m     32\u001b[0m \u001b[0;34m\u001b[0m\u001b[0m\n\u001b[0;32m---> 33\u001b[0;31m \u001b[0mresult\u001b[0m\u001b[0;34m(\u001b[0m\u001b[0;34m)\u001b[0m\u001b[0;34m\u001b[0m\u001b[0;34m\u001b[0m\u001b[0m\n\u001b[0m",
      "\u001b[0;32m<ipython-input-4-3cccf81c6b84>\u001b[0m in \u001b[0;36mresult\u001b[0;34m()\u001b[0m\n\u001b[1;32m     27\u001b[0m \u001b[0;34m\u001b[0m\u001b[0m\n\u001b[1;32m     28\u001b[0m     \u001b[0;32mfor\u001b[0m \u001b[0mline\u001b[0m \u001b[0;32min\u001b[0m \u001b[0mfile\u001b[0m\u001b[0;34m:\u001b[0m\u001b[0;34m\u001b[0m\u001b[0;34m\u001b[0m\u001b[0m\n\u001b[0;32m---> 29\u001b[0;31m         \u001b[0mexpenses\u001b[0m\u001b[0;34m[\u001b[0m\u001b[0mint\u001b[0m\u001b[0;34m(\u001b[0m\u001b[0mline\u001b[0m\u001b[0;34m)\u001b[0m\u001b[0;34m]\u001b[0m \u001b[0;34m=\u001b[0m \u001b[0;32mTrue\u001b[0m\u001b[0;34m\u001b[0m\u001b[0;34m\u001b[0m\u001b[0m\n\u001b[0m\u001b[1;32m     30\u001b[0m \u001b[0;34m\u001b[0m\u001b[0m\n\u001b[1;32m     31\u001b[0m     \u001b[0mprint\u001b[0m\u001b[0;34m(\u001b[0m\u001b[0mproductfunc\u001b[0m\u001b[0;34m(\u001b[0m\u001b[0mexpenses\u001b[0m\u001b[0;34m,\u001b[0m \u001b[0;36m2020\u001b[0m\u001b[0;34m,\u001b[0m \u001b[0;36m2\u001b[0m\u001b[0;34m)\u001b[0m\u001b[0;34m)\u001b[0m\u001b[0;34m\u001b[0m\u001b[0;34m\u001b[0m\u001b[0m\n",
      "\u001b[0;31mValueError\u001b[0m: invalid literal for int() with base 10: '3-4 l: vdcv\\n'"
     ]
    }
   ],
   "source": [
    "# Day 1 \n",
    "\n",
    "\"From a given list, find the sum of two numbers that adds up to 2020 and return the product of these two numbers \"\n",
    "\n",
    "def productfunc(list_of_numbers, required_sum, how_many_numbers_to_sum):\n",
    "    if how_many_numbers_to_sum == 0:\n",
    "        return 1\n",
    "    if how_many_numbers_to_sum == 1:\n",
    "        if required_sum in list_of_numbers:\n",
    "            return required_sum\n",
    "        else:\n",
    "            return 0\n",
    "\n",
    "\n",
    "    for number in list_of_numbers:\n",
    "        complement = 2020 - number\n",
    "        product = productfunc(list_of_numbers, complement, how_many_numbers_to_sum -1)\n",
    "        if product > 0:\n",
    "            return number * product\n",
    "    return 0\n",
    "\n",
    "\n",
    "def result():\n",
    "    file = open('input.txt', 'r')\n",
    "\n",
    "    expenses = {}\n",
    "\n",
    "    for line in file:\n",
    "        expenses[int(line)] = True\n",
    "    \n",
    "    print(productfunc(expenses, 2020, 2))\n",
    "\n",
    "result()"
   ]
  },
  {
   "cell_type": "code",
   "execution_count": 3,
   "metadata": {},
   "outputs": [
    {
     "name": "stdout",
     "output_type": "stream",
     "text": [
      "there are 249 valid passwords\n"
     ]
    }
   ],
   "source": [
    "# Day 2 \n",
    "# Find the valid passwords given the policy \n",
    "\n",
    "with open(\"input.txt\", 'r') as file:\n",
    "    password_list = [line.split() for line in file.readlines()]\n",
    "valid = 0\n",
    "for i in password_list:\n",
    "    password = (i[2])\n",
    "    letter = i[1].strip(':')\n",
    "    index_1 = (i[0].split('-'))[0]\n",
    "    index_2 = (i[0].split('-'))[1]\n",
    "    index_1 = int(index_1)\n",
    "    index_2 = int(index_2)\n",
    "    if password[index_1 - 1] == letter:\n",
    "        if password[index_2 - 1 ] != letter:\n",
    "            valid += 1\n",
    "    elif password[index_2 - 1] == letter:\n",
    "        valid += 1\n",
    "print (\"there are {} valid passwords\".format(valid))"
   ]
  },
  {
   "cell_type": "code",
   "execution_count": null,
   "metadata": {},
   "outputs": [],
   "source": []
  }
 ],
 "metadata": {
  "kernelspec": {
   "display_name": "Python 3",
   "language": "python",
   "name": "python3"
  },
  "language_info": {
   "codemirror_mode": {
    "name": "ipython",
    "version": 3
   },
   "file_extension": ".py",
   "mimetype": "text/x-python",
   "name": "python",
   "nbconvert_exporter": "python",
   "pygments_lexer": "ipython3",
   "version": "3.7.6"
  }
 },
 "nbformat": 4,
 "nbformat_minor": 4
}
