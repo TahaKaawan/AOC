{
 "cells": [
  {
   "cell_type": "code",
   "execution_count": 113,
   "metadata": {},
   "outputs": [
    {
     "name": "stdout",
     "output_type": "stream",
     "text": [
      "211899\n"
     ]
    }
   ],
   "source": [
    "\"From a given list, find the sum of two numbers that adds up to 2020 and return the product of these two numbers \"\n",
    "\n",
    "def productfunc(list_of_numbers, required_sum, how_many_numbers_to_sum):\n",
    "    if how_many_numbers_to_sum == 0:\n",
    "        return 1\n",
    "    if how_many_numbers_to_sum == 1:\n",
    "        if required_sum in list_of_numbers:\n",
    "            return required_sum\n",
    "        else:\n",
    "            return 0\n",
    "\n",
    "\n",
    "    for number in list_of_numbers:\n",
    "        complement = 2020 - number\n",
    "        product = productfunc(list_of_numbers, complement, how_many_numbers_to_sum -1)\n",
    "        if product > 0:\n",
    "            return number * product\n",
    "    return 0\n",
    "\n",
    "\n",
    "def result():\n",
    "    file = open('input.txt', 'r')\n",
    "\n",
    "    expenses = {}\n",
    "\n",
    "    for line in file:\n",
    "        expenses[int(line)] = True\n",
    "    \n",
    "    1\n",
    "    print(productfunc(expenses, 2020, 2))\n",
    "\n",
    "result()"
   ]
  },
  {
   "cell_type": "code",
   "execution_count": null,
   "metadata": {},
   "outputs": [],
   "source": []
  }
 ],
 "metadata": {
  "kernelspec": {
   "display_name": "Python 3",
   "language": "python",
   "name": "python3"
  },
  "language_info": {
   "codemirror_mode": {
    "name": "ipython",
    "version": 3
   },
   "file_extension": ".py",
   "mimetype": "text/x-python",
   "name": "python",
   "nbconvert_exporter": "python",
   "pygments_lexer": "ipython3",
   "version": "3.7.6"
  }
 },
 "nbformat": 4,
 "nbformat_minor": 4
}
