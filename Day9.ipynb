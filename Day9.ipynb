{
 "cells": [
  {
   "cell_type": "code",
   "execution_count": 1,
   "metadata": {},
   "outputs": [],
   "source": [
    "import numpy as np "
   ]
  },
  {
   "cell_type": "code",
   "execution_count": null,
   "metadata": {},
   "outputs": [],
   "source": [
    "# find the first number in the list (after the preamble) which is not the sum of two of the 25 numbers before it.\n",
    "\n",
    "# Code structure: \n",
    "       \n",
    "        # What is the first number that does not have this property?\n",
    "\n",
    "\n",
    "        # start iteration after the preamble ends. If n in n is not = sum of n+n break \n"
   ]
  },
  {
   "cell_type": "code",
   "execution_count": 2,
   "metadata": {},
   "outputs": [],
   "source": [
    "with open('input9.txt') as file:\n",
    "    preamble = list(map(lambda x: int(x[:-1]), file.readlines()))\n"
   ]
  },
  {
   "cell_type": "code",
   "execution_count": 28,
   "metadata": {},
   "outputs": [
    {
     "name": "stdout",
     "output_type": "stream",
     "text": [
      "25918798 is The First Invalid\n"
     ]
    }
   ],
   "source": [
    "class Xmas:\n",
    "    def __init__(self, preamble):\n",
    "        self.preamble = preamble\n",
    "\n",
    "    def is_valid(self, int):\n",
    "        for i in self.preamble[:-1]:\n",
    "            for j in self.preamble[1:]:\n",
    "                if i + j == int:\n",
    "                    return True\n",
    "        return False\n",
    "            \n",
    "        \n",
    "    def shift(self, number):\n",
    "        self.preamble.append(number)\n",
    "        self.preamble = self.preamble[1:]\n",
    "\n",
    "        \n",
    "        \n",
    "preamble_starts = 25\n",
    "first_invalid = 0\n",
    "\n",
    "xmas = Xmas(preamble[:preamble_starts]) \n",
    "\n",
    "for i in preamble[preamble_starts:]:   # start iteration after the preamble ends\n",
    "    if not xmas.is_valid(i):\n",
    "        first_invalid = i\n",
    "        print(f'{i} is The First Invalid')\n",
    "        break\n",
    "    xmas.shift(i)"
   ]
  },
  {
   "cell_type": "code",
   "execution_count": null,
   "metadata": {},
   "outputs": [],
   "source": []
  }
 ],
 "metadata": {
  "kernelspec": {
   "display_name": "Python 3",
   "language": "python",
   "name": "python3"
  },
  "language_info": {
   "codemirror_mode": {
    "name": "ipython",
    "version": 3
   },
   "file_extension": ".py",
   "mimetype": "text/x-python",
   "name": "python",
   "nbconvert_exporter": "python",
   "pygments_lexer": "ipython3",
   "version": "3.7.6"
  }
 },
 "nbformat": 4,
 "nbformat_minor": 4
}
