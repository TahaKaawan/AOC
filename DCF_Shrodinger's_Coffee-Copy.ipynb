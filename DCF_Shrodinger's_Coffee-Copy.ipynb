{
 "cells": [
  {
   "cell_type": "code",
   "execution_count": 296,
   "metadata": {},
   "outputs": [],
   "source": [
    "import numpy as np\n",
    "import pandas as pd \n",
    "import matplotlib.pyplot as plt\n",
    "\n",
    "class DiscountedCashFlow:\n",
    "    \"\"\"\n",
    "    initial FCF value & discount rate are must-have arguments for any DCF\n",
    "    growth could be 0% so I'll keep that as a  positional argument that the user explicitly writes \n",
    "    \"\"\"\n",
    "    def __init__(self, FCF_t0,r,g = None):\n",
    "        self.FCF_t0=FCF_t0\n",
    "        self.r = r/100\n",
    "        self.g = g/100\n",
    "    def dcf_old(self,n):\n",
    "        t=0\n",
    "        \n",
    "        for i in range(n):\n",
    "            k=i+1\n",
    "            t+=((self.FCF_t0*((1+self.g)**(k))))/((1+self.r)**(k))\n",
    "        self.dcf_val=t\n",
    "        return t   \n",
    "    \n",
    "    def dcf(self,n):\n",
    "        initial_fcf=self.FCF_t0\n",
    "        value=0\n",
    "        for i in range(n):\n",
    "            if(i==0):\n",
    "                fcf_t=initial_fcf*(1+self.g)/(1+self.r)\n",
    "            else:\n",
    "                fcf_t*=(1+self.g)/(1+self.r)\n",
    "            \n",
    "            value+=fcf_t       # we are summing tnext each time its iterated over in the loop. \n",
    "        return value\n",
    "        \n",
    "        self.dcf_val=value\n",
    "        self.fcf_tn = fcf_t # This is wrong. I need to fix this so it takes the last fcf_t that has been iterated\n",
    "        self.terminal_year = len(range(0,n))\n",
    "        \n",
    "     \n",
    "    def TV(self):\n",
    "        terminal_value = self.fcf_tn\n",
    "        t = self.terminal_year\n",
    "        perpetual_gr = ((1+self.r)-(1+self.g))\n",
    "        return((terminal_value)/((perpetual_gr)**t))+(self.dcf_val)\n",
    "        \n",
    "    def MC(self,std_dev):\n",
    "        average = self.FCF_t0\n",
    "        self.std_dev = std_dev\n",
    "        num_reps = 500\n",
    "        num_simulations = 1000\n",
    "        fcf_mc = np.random.normal(average, std_dev, num_reps).round(2)\n",
    "        self.fcf_mc = fcf_mc\n",
    "        df = pd.DataFrame(index=range(num_reps),data={'fcf':fcf_mc})\n",
    "        self.df = df \n",
    "        return df['fcf'].plot(kind='hist', title='Initial FCF Monte Carlo')\n",
    "\n",
    "    def desc_stats(self):\n",
    "        data = self.df\n",
    "        desc_MC = data.describe().round(0).style.format('{:,}')\n",
    "        return desc_MC\n",
    "        \n",
    "        \n",
    "    # Create a method that runs \n",
    "        #for i in range(self.n):\n",
    "            #k=i+1\n",
    "            #t+= ((self.FCF_t0*((1+self.g)*(k))))/((1+self.r)*(k))\n",
    "        #self.dcf_val=t"
   ]
  },
  {
   "cell_type": "code",
   "execution_count": 297,
   "metadata": {},
   "outputs": [
    {
     "data": {
      "text/plain": [
       "48.56240449955173"
      ]
     },
     "execution_count": 297,
     "metadata": {},
     "output_type": "execute_result"
    }
   ],
   "source": [
    "cash_flow=DiscountedCashFlow(10,3, 2)\n",
    "cash_flow.dcf(5)\n"
   ]
  },
  {
   "cell_type": "code",
   "execution_count": 298,
   "metadata": {},
   "outputs": [
    {
     "data": {
      "text/plain": [
       "<matplotlib.axes._subplots.AxesSubplot at 0x118683b90>"
      ]
     },
     "execution_count": 298,
     "metadata": {},
     "output_type": "execute_result"
    },
    {
     "data": {
      "image/png": "[encoded data removed]",
      "text/plain": [
       "<Figure size 432x288 with 1 Axes>"
      ]
     },
     "metadata": {
      "needs_background": "light"
     },
     "output_type": "display_data"
    }
   ],
   "source": [
    "cash_flow.MC(0.1)"
   ]
  },
  {
   "cell_type": "code",
   "execution_count": 300,
   "metadata": {},
   "outputs": [
    {
     "data": {
      "text/html": [
       "<style  type=\"text/css\" >\n",
       "</style><table id=\"T_895981d8_201f_11eb_8f91_3035adb51990\" ><thead>    <tr>        <th class=\"blank level0\" ></th>        <th class=\"col_heading level0 col0\" >fcf</th>    </tr></thead><tbody>\n",
       "                <tr>\n",
       "                        <th id=\"T_895981d8_201f_11eb_8f91_3035adb51990level0_row0\" class=\"row_heading level0 row0\" >count</th>\n",
       "                        <td id=\"T_895981d8_201f_11eb_8f91_3035adb51990row0_col0\" class=\"data row0 col0\" >500.0</td>\n",
       "            </tr>\n",
       "            <tr>\n",
       "                        <th id=\"T_895981d8_201f_11eb_8f91_3035adb51990level0_row1\" class=\"row_heading level0 row1\" >mean</th>\n",
       "                        <td id=\"T_895981d8_201f_11eb_8f91_3035adb51990row1_col0\" class=\"data row1 col0\" >10.0</td>\n",
       "            </tr>\n",
       "            <tr>\n",
       "                        <th id=\"T_895981d8_201f_11eb_8f91_3035adb51990level0_row2\" class=\"row_heading level0 row2\" >std</th>\n",
       "                        <td id=\"T_895981d8_201f_11eb_8f91_3035adb51990row2_col0\" class=\"data row2 col0\" >0.0</td>\n",
       "            </tr>\n",
       "            <tr>\n",
       "                        <th id=\"T_895981d8_201f_11eb_8f91_3035adb51990level0_row3\" class=\"row_heading level0 row3\" >min</th>\n",
       "                        <td id=\"T_895981d8_201f_11eb_8f91_3035adb51990row3_col0\" class=\"data row3 col0\" >10.0</td>\n",
       "            </tr>\n",
       "            <tr>\n",
       "                        <th id=\"T_895981d8_201f_11eb_8f91_3035adb51990level0_row4\" class=\"row_heading level0 row4\" >25%</th>\n",
       "                        <td id=\"T_895981d8_201f_11eb_8f91_3035adb51990row4_col0\" class=\"data row4 col0\" >10.0</td>\n",
       "            </tr>\n",
       "            <tr>\n",
       "                        <th id=\"T_895981d8_201f_11eb_8f91_3035adb51990level0_row5\" class=\"row_heading level0 row5\" >50%</th>\n",
       "                        <td id=\"T_895981d8_201f_11eb_8f91_3035adb51990row5_col0\" class=\"data row5 col0\" >10.0</td>\n",
       "            </tr>\n",
       "            <tr>\n",
       "                        <th id=\"T_895981d8_201f_11eb_8f91_3035adb51990level0_row6\" class=\"row_heading level0 row6\" >75%</th>\n",
       "                        <td id=\"T_895981d8_201f_11eb_8f91_3035adb51990row6_col0\" class=\"data row6 col0\" >10.0</td>\n",
       "            </tr>\n",
       "            <tr>\n",
       "                        <th id=\"T_895981d8_201f_11eb_8f91_3035adb51990level0_row7\" class=\"row_heading level0 row7\" >max</th>\n",
       "                        <td id=\"T_895981d8_201f_11eb_8f91_3035adb51990row7_col0\" class=\"data row7 col0\" >10.0</td>\n",
       "            </tr>\n",
       "    </tbody></table>"
      ],
      "text/plain": [
       "<pandas.io.formats.style.Styler at 0x118683110>"
      ]
     },
     "execution_count": 300,
     "metadata": {},
     "output_type": "execute_result"
    }
   ],
   "source": [
    "cash_flow.desc_stats()"
   ]
  },
  {
   "cell_type": "code",
   "execution_count": 193,
   "metadata": {},
   "outputs": [
    {
     "ename": "AttributeError",
     "evalue": "'DiscountedCashFlow' object has no attribute 'fcf_tn'",
     "output_type": "error",
     "traceback": [
      "\u001b[0;31m---------------------------------------------------------------------------\u001b[0m",
      "\u001b[0;31mAttributeError\u001b[0m                            Traceback (most recent call last)",
      "\u001b[0;32m<ipython-input-193-f499b3e5ade1>\u001b[0m in \u001b[0;36m<module>\u001b[0;34m\u001b[0m\n\u001b[0;32m----> 1\u001b[0;31m \u001b[0mcash_flow\u001b[0m\u001b[0;34m.\u001b[0m\u001b[0mTV\u001b[0m\u001b[0;34m(\u001b[0m\u001b[0;34m)\u001b[0m\u001b[0;34m\u001b[0m\u001b[0;34m\u001b[0m\u001b[0m\n\u001b[0m",
      "\u001b[0;32m<ipython-input-189-12437afbd9b3>\u001b[0m in \u001b[0;36mTV\u001b[0;34m(self)\u001b[0m\n\u001b[1;32m     36\u001b[0m \u001b[0;34m\u001b[0m\u001b[0m\n\u001b[1;32m     37\u001b[0m     \u001b[0;32mdef\u001b[0m \u001b[0mTV\u001b[0m\u001b[0;34m(\u001b[0m\u001b[0mself\u001b[0m\u001b[0;34m)\u001b[0m\u001b[0;34m:\u001b[0m\u001b[0;34m\u001b[0m\u001b[0;34m\u001b[0m\u001b[0m\n\u001b[0;32m---> 38\u001b[0;31m         \u001b[0mterminal_value\u001b[0m \u001b[0;34m=\u001b[0m \u001b[0mself\u001b[0m\u001b[0;34m.\u001b[0m\u001b[0mfcf_tn\u001b[0m\u001b[0;34m\u001b[0m\u001b[0;34m\u001b[0m\u001b[0m\n\u001b[0m\u001b[1;32m     39\u001b[0m         \u001b[0mt\u001b[0m \u001b[0;34m=\u001b[0m \u001b[0mself\u001b[0m\u001b[0;34m.\u001b[0m\u001b[0mterminal_year\u001b[0m\u001b[0;34m\u001b[0m\u001b[0;34m\u001b[0m\u001b[0m\n\u001b[1;32m     40\u001b[0m         \u001b[0mperpetual_gr\u001b[0m \u001b[0;34m=\u001b[0m \u001b[0;34m(\u001b[0m\u001b[0;34m(\u001b[0m\u001b[0;36m1\u001b[0m\u001b[0;34m+\u001b[0m\u001b[0mself\u001b[0m\u001b[0;34m.\u001b[0m\u001b[0mr\u001b[0m\u001b[0;34m)\u001b[0m\u001b[0;34m-\u001b[0m\u001b[0;34m(\u001b[0m\u001b[0;36m1\u001b[0m\u001b[0;34m+\u001b[0m\u001b[0mself\u001b[0m\u001b[0;34m.\u001b[0m\u001b[0mg\u001b[0m\u001b[0;34m)\u001b[0m\u001b[0;34m)\u001b[0m\u001b[0;34m\u001b[0m\u001b[0;34m\u001b[0m\u001b[0m\n",
      "\u001b[0;31mAttributeError\u001b[0m: 'DiscountedCashFlow' object has no attribute 'fcf_tn'"
     ]
    }
   ],
   "source": [
    "cash_flow.TV()"
   ]
  },
  {
   "cell_type": "code",
   "execution_count": 51,
   "metadata": {},
   "outputs": [
    {
     "name": "stdout",
     "output_type": "stream",
     "text": [
      "48.56240449955173\n"
     ]
    }
   ],
   "source": [
    "cash_flow=DiscountedCashFlow(10,3, 2)\n",
    "cash_flow.dcf(5)\n",
    "print(cash_flow.dcf_val)"
   ]
  },
  {
   "cell_type": "code",
   "execution_count": 49,
   "metadata": {},
   "outputs": [
    {
     "name": "stdout",
     "output_type": "stream",
     "text": [
      "48.56240449955175\n"
     ]
    }
   ],
   "source": [
    "cash_flow.dcf_old(5)\n",
    "print(cash_flow.dcf_val)"
   ]
  },
  {
   "cell_type": "code",
   "execution_count": 4,
   "metadata": {},
   "outputs": [
    {
     "name": "stdout",
     "output_type": "stream",
     "text": [
      "i currently equals:  0\n",
      "i currently equals:  1\n",
      "i currently equals:  2\n",
      "i currently equals:  3\n",
      "i currently equals:  4\n"
     ]
    }
   ],
   "source": [
    "for i in range(5):\n",
    "      print(\"i currently equals: \", i)\n"
   ]
  },
  {
   "cell_type": "code",
   "execution_count": 24,
   "metadata": {},
   "outputs": [],
   "source": [
    "def ns(n):\n",
    "    t = 0\n",
    "    if n == 0:\n",
    "        return 1\n",
    "    else: \n",
    "        for i in range(n):\n",
    "            tnext= 100\n",
    "            t+=tnext \n",
    "        return t"
   ]
  },
  {
   "cell_type": "code",
   "execution_count": 25,
   "metadata": {},
   "outputs": [
    {
     "data": {
      "text/plain": [
       "500"
      ]
     },
     "execution_count": 25,
     "metadata": {},
     "output_type": "execute_result"
    }
   ],
   "source": [
    "ns(5)"
   ]
  },
  {
   "cell_type": "code",
   "execution_count": null,
   "metadata": {},
   "outputs": [],
   "source": []
  }
 ],
 "metadata": {
  "kernelspec": {
   "display_name": "Python 3",
   "language": "python",
   "name": "python3"
  },
  "language_info": {
   "codemirror_mode": {
    "name": "ipython",
    "version": 3
   },
   "file_extension": ".py",
   "mimetype": "text/x-python",
   "name": "python",
   "nbconvert_exporter": "python",
   "pygments_lexer": "ipython3",
   "version": "3.7.6"
  }
 },
 "nbformat": 4,
 "nbformat_minor": 4
}
