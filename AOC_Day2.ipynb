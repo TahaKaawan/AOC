   ]
  },
  {
   "cell_type": "code",
   "execution_count": 3,
   "metadata": {},
   "outputs": [
    {
     "name": "stdout",
     "output_type": "stream",
     "text": [
      "there are 249 valid passwords\n"
     ]
    }
   ],
   "source": [
    "# Day 2 \n",
    "# Find the valid passwords given the policy \n",
    "\n",
    "with open(\"input.txt\", 'r') as file:\n",
    "    password_list = [line.split() for line in file.readlines()]\n",
    "valid = 0\n",
    "for i in password_list:\n",
    "    password = (i[2])\n",
    "    letter = i[1].strip(':')\n",
    "    index_1 = (i[0].split('-'))[0]\n",
    "    index_2 = (i[0].split('-'))[1]\n",
    "    index_1 = int(index_1)\n",
    "    index_2 = int(index_2)\n",
    "    if password[index_1 - 1] == letter:\n",
    "        if password[index_2 - 1 ] != letter:\n",
    "            valid += 1\n",
    "    elif password[index_2 - 1] == letter:\n",
    "        valid += 1\n",
    "print (\"there are {} valid passwords\".format(valid))"
   ]
  },
  {
   "cell_type": "code",
   "execution_count": null,
   "metadata": {},
   "outputs": [],
   "source": []
  }
 ],
 "metadata": {
  "kernelspec": {
   "display_name": "Python 3",
   "language": "python",
   "name": "python3"
  },
  "language_info": {
   "codemirror_mode": {
    "name": "ipython",
    "version": 3
   },
   "file_extension": ".py",
   "mimetype": "text/x-python",
   "name": "python",
   "nbconvert_exporter": "python",
   "pygments_lexer": "ipython3",
   "version": "3.7.6"
  }
 },
 "nbformat": 4,
 "nbformat_minor": 4
}
